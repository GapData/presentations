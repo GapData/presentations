{
 "cells": [
  {
   "cell_type": "markdown",
   "metadata": {
    "slideshow": {
     "slide_type": "skip"
    }
   },
   "source": [
    "# This is a live notebook\n",
    "\n",
    "That means, you can execute the cells -- for example with CTRL+Enter, or click the play button \n",
    "above. To start the presentation, click the button as indicated on the following image.\n",
    "\n",
    "![](assets/explain.png)"
   ]
  },
  {
   "cell_type": "code",
   "execution_count": 1,
   "metadata": {
    "collapsed": true,
    "slideshow": {
     "slide_type": "skip"
    }
   },
   "outputs": [],
   "source": [
    "#include <xtensor/xio.hpp>\n",
    "#include <xtensor/xarray.hpp>\n",
    "#include <xtensor/xtensor.hpp>"
   ]
  },
  {
   "cell_type": "markdown",
   "metadata": {
    "slideshow": {
     "slide_type": "slide"
    }
   },
   "source": [
    "![](assets/xtensor.svg)\n",
    "\n",
    "# xtensor for Robotics"
   ]
  },
  {
   "cell_type": "markdown",
   "metadata": {
    "slideshow": {
     "slide_type": "slide"
    }
   },
   "source": [
    "### About me\n",
    "\n",
    "#### Wolf Vollprecht\n",
    "\n",
    "- Finished my master in Robotics at ETH last year with Prof. Andreas Krause\n",
    "- Visiting Stanford (Prof. Marco Pavone) for master thesis: <br>\n",
    "  »Predicting Human Driver Behavior for Planning under Uncertainty for Autonomous Cars«\n",
    "- Core developer of xtensor, working at QuantStack (Paris) now\n",
    "- Find me online:\n",
    "    - github: @wolfv\n",
    "    - twitter: @wuoulf\n",
    "    - email: w.vollprecht@gmail.com"
   ]
  },
  {
   "cell_type": "markdown",
   "metadata": {
    "slideshow": {
     "slide_type": "slide"
    }
   },
   "source": [
    "### What's this contraption?\n",
    "\n",
    "- jupyter notebook with xeus-cling\n",
    "- cling, the interactive C++ interpreter from CERN\n",
    "- xeus, the C++ jupyter backend from QuantStack\n",
    "- more about interactive computing with C++ on the Project Jupyter blog (also plotting!): [Interactive workflows for C++ with Jupyter](https://blog.jupyter.org/interactive-workflows-for-c-with-jupyter-fe9b54227d92)"
   ]
  },
  {
   "cell_type": "code",
   "execution_count": 2,
   "metadata": {
    "collapsed": true,
    "slideshow": {
     "slide_type": "subslide"
    }
   },
   "outputs": [],
   "source": [
    "std::vector<int> random_nums = {1, 1, 2, 3, 5, 8};"
   ]
  },
  {
   "cell_type": "code",
   "execution_count": 11,
   "metadata": {},
   "outputs": [
    {
     "name": "stdout",
     "output_type": "stream",
     "text": [
      "Interactive EMOJIS! 1 🤘 1 🤘 2 🤘 3 🤘 5 🤘 8 🤘 "
     ]
    }
   ],
   "source": [
    "// interactive C++!\n",
    "std::cout << \"Interactive EMOJIS! \";\n",
    "for (const auto& c : random_nums)\n",
    "    std::cout << c << \" 🤘 \";"
   ]
  },
  {
   "cell_type": "markdown",
   "metadata": {
    "slideshow": {
     "slide_type": "slide"
    }
   },
   "source": [
    "### xtensor is ...\n",
    "\n",
    "- A high-performance nD-array computing library\n",
    "- Written in modern C++ 14\n",
    "- Utilizing template metaprogramming magic for compile-time optimizations\n",
    "- BSD-3 License (all of our projects are!)"
   ]
  },
  {
   "cell_type": "markdown",
   "metadata": {
    "slideshow": {
     "slide_type": "subslide"
    }
   },
   "source": [
    "### xtensor is ... NumPy in C++\n",
    "\n",
    "- Trying to follow NumPy's API as close as possible\n",
    "- Adding *lazyness*\n",
    "- And speed..."
   ]
  },
  {
   "cell_type": "code",
   "execution_count": 4,
   "metadata": {
    "slideshow": {
     "slide_type": "subslide"
    }
   },
   "outputs": [
    {
     "name": "stdout",
     "output_type": "stream",
     "text": [
      "{{  0.,   1.,   2.,   3.},\n",
      " {  4.,   5.,   6.,   7.},\n",
      " {  8.,   9.,  10.,  11.}}\n"
     ]
    }
   ],
   "source": [
    "xt::xarray<double> arr = xt::arange<double>(12);\n",
    "arr.reshape({3, 4});\n",
    "std::cout << arr << std::endl;"
   ]
  },
  {
   "cell_type": "code",
   "execution_count": 5,
   "metadata": {
    "slideshow": {
     "slide_type": "subslide"
    }
   },
   "outputs": [
    {
     "name": "stdout",
     "output_type": "stream",
     "text": [
      "{{   0.,    1.,    4.,    9.},\n",
      " {  16.,   25.,   36.,   49.},\n",
      " {  64.,   81.,  100.,  121.}}\n"
     ]
    }
   ],
   "source": [
    "xt::xtensor<double, 2> brr = arr;\n",
    "auto crr = arr * brr;\n",
    "std::cout << crr << std::endl;"
   ]
  },
  {
   "cell_type": "code",
   "execution_count": 6,
   "metadata": {
    "scrolled": true,
    "slideshow": {
     "slide_type": "subslide"
    }
   },
   "outputs": [
    {
     "name": "stdout",
     "output_type": "stream",
     "text": [
      "{{  1.,   3.,   5.,   7.},\n",
      " {  5.,   7.,   9.,  11.},\n",
      " {  9.,  11.,  13.,  15.}}\n"
     ]
    }
   ],
   "source": [
    "// Broadcasting, NumPy style!\n",
    "xt::xarray<double> broadcast_moi = {1, 2, 3, 4};\n",
    "xt::xarray<double> res1 = arr + broadcast_moi;\n",
    "std::cout << res1 << std::endl;"
   ]
  },
  {
   "cell_type": "markdown",
   "metadata": {
    "slideshow": {
     "slide_type": "subslide"
    }
   },
   "source": [
    "### \"Lazy\" xexpressions\n",
    "\n",
    "- Through template meta-programming, create an expression tree\n",
    "\n",
    "```c++\n",
    "auto expr = (a + b - c) * d;\n",
    "```\n",
    "\n",
    "- `expr(1, 1) ==> (a(1, 1) + b(1, 1) - c(1, 1)) * d(1, 1)`\n",
    "- `xarray<double> res = expr ==> single for-loop!`\n",
    "  instead of \n",
    "  ```\n",
    "  tmp = (a + b);\n",
    "  tmp2 = tmp - c;\n",
    "  tmp3 = tmp2 * d;\n",
    "  ...\n",
    "  ```\n"
   ]
  },
  {
   "cell_type": "markdown",
   "metadata": {
    "slideshow": {
     "slide_type": "subslide"
    }
   },
   "source": [
    "### xtensor cheatsheet\n",
    "\n",
    "|    Python 3 - numpy    |     C++ 14 - xtensor    |\n",
    "|:-----------------------|:------------------------|\n",
    "| `np.absolute(a)`       | `xt::abs(a)`            |\n",
    "| `np.sign(a)`           | `xt::sign(a)`           |\n",
    "| `np.remainder(a, b)`   | `xt::remainder(a, b)`   |\n",
    "| `np.clip(a, min, max)` | `xt::clip(a, min, max)` |\n"
   ]
  },
  {
   "cell_type": "markdown",
   "metadata": {
    "slideshow": {
     "slide_type": "slide"
    }
   },
   "source": [
    "### Reductions\n",
    "|      Python 3 - numpy      |    C++ 14 - xtensor    |\n",
    "|:---------------------------|:-----------------------|\n",
    "| ``np.sum(a, axis=[0, 1])`` | ``xt::sum(a, {0, 1})`` |\n",
    "| ``np.sum(a)``              | ``xt::sum(a)``         |\n",
    "| ``np.prod(a)``             | ``xt::prod(a)``        |\n",
    "| ``np.mean(a)``             | ``xt::mean(a)``        |"
   ]
  },
  {
   "cell_type": "markdown",
   "metadata": {
    "slideshow": {
     "slide_type": "subslide"
    }
   },
   "source": [
    "### Mathematical functions\n",
    "\n",
    "| Python 3 - numpy | C++ 14 - xtensor |\n",
    "|:-----------------|:-----------------|\n",
    "| ``np.exp(a)``    | ``xt::exp(a)``   |\n",
    "| ``np.expm1(a)``  | ``xt::expm1(a)`` |\n",
    "| ``np.log(a)``    | ``xt::log(a)``   |\n",
    "| ``np.log1p(a)``  | ``xt::log1p(a)`` |"
   ]
  },
  {
   "cell_type": "markdown",
   "metadata": {
    "slideshow": {
     "slide_type": "subslide"
    }
   },
   "source": [
    "### Logical functions \n",
    "|            Python 3 - numpy                   |                C++ 14 - xtensor               |\n",
    "|:----------------------------------------------|:----------------------------------------------|\n",
    "| ``np.where(a > 5, a, b)``                     | ``xt::where(a > 5, a, b)``                    |\n",
    "| ``np.where(a > 5)``                           | ``xt::where(a > 5)``                          |\n",
    "| ``np.any(a)``                                 | ``xt::any(a)``                                |\n",
    "| ``np.all(a)``                                 | ``xt::all(a)``                                |\n",
    "| ``np.logical_and(a, b)``                      | ``a && b``                                    |\n",
    "| ``np.logical_or(a, b)``                       | ``a || b``                                    |\n",
    "| ``np.isclose(a, b)``                          | ``xt::isclose(a, b)``                         |\n",
    "| ``np.allclose(a, b)``                         | ``xt::allclose(a, b)``                        |\n"
   ]
  },
  {
   "cell_type": "markdown",
   "metadata": {
    "slideshow": {
     "slide_type": "subslide"
    }
   },
   "source": [
    "![](assets/cheatsheet.gif)"
   ]
  },
  {
   "cell_type": "markdown",
   "metadata": {
    "slideshow": {
     "slide_type": "slide"
    }
   },
   "source": [
    "### Views\n",
    "\n",
    "- very similar to NumPy"
   ]
  },
  {
   "cell_type": "code",
   "execution_count": 7,
   "metadata": {
    "slideshow": {
     "slide_type": "subslide"
    }
   },
   "outputs": [
    {
     "name": "stdout",
     "output_type": "stream",
     "text": [
      "{{  0.,   1.,   2.,   3.},\n",
      " {  4.,   5.,   6.,   7.},\n",
      " {  8.,   9.,  10.,  11.}}\n",
      "\n",
      "The view\n",
      "\n",
      "{{{  0.},\n",
      "  {  1.},\n",
      "  {  2.},\n",
      "  {  3.}},\n",
      " {{  8.},\n",
      "  {  9.},\n",
      "  { 10.},\n",
      "  { 11.}}}\n",
      "\n",
      "The underlying array\n",
      "\n",
      "{{ 10.,  11.,  12.,  13.},\n",
      " {  4.,   5.,   6.,   7.},\n",
      " { 18.,  19.,  20.,  21.}}\n"
     ]
    }
   ],
   "source": [
    "#include <xtensor/xview.hpp>\n",
    "using namespace xt::placeholders;\n",
    "std::cout << arr << std::endl;\n",
    "#arr[::2, :, np.newaxis]\n",
    "auto va = xt::view(arr, xt::range(_, _, 2), xt::all(), xt::newaxis());\n",
    "std::cout << \"\\nThe view\\n\\n\" << va << std::endl;\n",
    "va += 10;\n",
    "\n",
    "std::cout << \"\\nThe underlying array\\n\\n\" << arr << std::endl;"
   ]
  },
  {
   "cell_type": "code",
   "execution_count": 8,
   "metadata": {
    "slideshow": {
     "slide_type": "subslide"
    }
   },
   "outputs": [
    {
     "name": "stdout",
     "output_type": "stream",
     "text": [
      "{ 4.,  5.,  6.,  7.}\n",
      "\n",
      "\n",
      "Original array\n",
      "\n",
      "{{ 10.,  11.,  12.,  13.},\n",
      " { -6.,  -5.,  -4.,  -3.},\n",
      " { 18.,  19.,  20.,  21.}}\n"
     ]
    }
   ],
   "source": [
    "#include <xtensor/xindex_view.hpp>\n",
    "\n",
    "auto fa = xt::filter(arr, arr < 10);\n",
    "std::cout << fa << std::endl;\n",
    "\n",
    "fa -= 10;\n",
    "\n",
    "std::cout << \"\\n\\nOriginal array\\n\\n\" << arr << std::endl;"
   ]
  },
  {
   "cell_type": "markdown",
   "metadata": {
    "slideshow": {
     "slide_type": "slide"
    }
   },
   "source": [
    "### How to get it?\n",
    "\n",
    "- On github: https://github.com/QuantStack/xtensor\n",
    "- Easiest installation through conda package manager:\n",
    "    - `conda install xtensor -c conda-forge`\n",
    "- Or system wide installation through git-cloning and `cmake` / `make install`\n"
   ]
  },
  {
   "cell_type": "markdown",
   "metadata": {
    "slideshow": {
     "slide_type": "slide"
    }
   },
   "source": [
    "### An ecosystem of scientific computing\n",
    "\n",
    "https://github.com/QuantStack/xtensor-blas\n",
    "\n",
    "- `xtensor-blas` — high speed `xt::linalg::dot`, `inv`, `eig`, `lstsq`, `svd`...\n",
    "- using LAPACK and any BLAS (OpenBLAS, MKL, ...) \n",
    "- same broadcasting rules for `dot` as NumPy"
   ]
  },
  {
   "cell_type": "code",
   "execution_count": 9,
   "metadata": {
    "slideshow": {
     "slide_type": "subslide"
    }
   },
   "outputs": [
    {
     "name": "stdout",
     "output_type": "stream",
     "text": [
      "Dot Product a * b: \n",
      "\n",
      "{ 14.,  32.,  50.}\n",
      "\n",
      "Inverse: \n",
      "\n",
      "{{-4.503600e+15,  9.007199e+15, -4.503600e+15},\n",
      " { 9.007199e+15, -1.801440e+16,  9.007199e+15},\n",
      " {-4.503600e+15,  9.007199e+15, -4.503600e+15}}\n"
     ]
    }
   ],
   "source": [
    "#include <xtensor-blas/xlinalg.hpp>\n",
    "\n",
    "xt::xarray<double> a = {{1,2,3}, {4,5,6}, {7,8,9}};\n",
    "xt::xarray<double> b = {1,2,3};\n",
    "\n",
    "std::cout << \"Dot Product a * b: \\n\\n\" << xt::linalg::dot(a, b) << std::endl;\n",
    "std::cout << \"\\nInverse: \\n\\n\" << xt::linalg::inv(a) << std::endl;"
   ]
  },
  {
   "cell_type": "markdown",
   "metadata": {
    "slideshow": {
     "slide_type": "subslide"
    }
   },
   "source": [
    "### File input & output: `xtensor-io`\n",
    "\n",
    "https://github.com/QuantStack/xtensor-io\n",
    "\n",
    "- xtensor \"native\": `csv`, `npy`\n",
    "- xtensor-io\n",
    "    - xaudio.hpp: `wav`, `flac` (using libsndfile, soon switching to ni-media for mp3 etc.)\n",
    "    - ximage.hpp: `png`, `jpg`, `bmp`, `gif` ... (using OpenImageIO)\n",
    "    - xnpz.hpp: `npz` (zipped npy files)\n",
    "    - xhdf5.hpp: `hdf5` files (using EPFL BlueBrain HighFive library)"
   ]
  },
  {
   "cell_type": "markdown",
   "metadata": {
    "slideshow": {
     "slide_type": "subslide"
    }
   },
   "source": [
    "```cpp\n",
    "auto arr = xt::load_image(\"test.png\");\n",
    "\n",
    "int freq = 2000;\n",
    "int sampling_freq = 44100;\n",
    "\n",
    "auto t = xt::arange(0.0, 1.0, 1.0 / sampling_freq);\n",
    "auto y = xt::sin(2.0 * numeric_constants<double>::PI * freq * t);\n",
    "\n",
    "xt::dump_audio(\"files/sine.wav\", y, sampling_freq);\n",
    "```"
   ]
  },
  {
   "cell_type": "markdown",
   "metadata": {
    "slideshow": {
     "slide_type": "slide"
    }
   },
   "source": [
    "### Fast fourier transform: `xtensor-fftw`\n",
    "\n",
    "[https://github.com/egpbos/xtensor-fftw](https://github.com/egpbos/xtensor-fftw)\n",
    "\n",
    "- Using the extremely fast `fftw` library\n",
    "- Interface like `numpy.fft`\n",
    "\n",
    "```c++\n",
    "double dx = xt::numeric_constants<double>::PI / 100.;\n",
    "xt::xarray<double> x = xt::arange(0., 2. * xt::numeric_constants<double>::PI, dx);\n",
    "xt::xarray<double> sin = xt::sin(x);\n",
    "\n",
    "auto sin_fs = xt::fftw::rfft(sin);\n",
    "```"
   ]
  },
  {
   "cell_type": "markdown",
   "metadata": {
    "slideshow": {
     "slide_type": "slide"
    }
   },
   "source": [
    "### Seamless bindings to Python, R and Julia\n",
    "\n",
    "https://github.com/QuantStack/xtensor-python\n",
    "\n",
    "- `xtensor-python`: bind C++ xtensor functions to Python / NumPy\n",
    "- using the awesome `pybind11`\n",
    "\n",
    "##### C++\n",
    "\n",
    "```c++\n",
    "double sum_of_sines(xt::pyarray<double>& m)\n",
    "{\n",
    "    auto sines = xt::sin(m);  // sines does not actually hold values.\n",
    "    return std::accumulate(sines.begin(), sines.end(), 0.0);\n",
    "}\n",
    "\n",
    "PYBIND11_PLUGIN(xtensor_python_test)\n",
    "{\n",
    "    xt::import_numpy();\n",
    "    pybind11::module m(\"xtensor_python_test\", \"Test module for xtensor python bindings\");\n",
    "\n",
    "    m.def(\"sum_of_sines\", sum_of_sines, \"Sum the sines of the input values\");\n",
    "\n",
    "    return m.ptr();\n",
    "}\n",
    "```\n",
    "\n",
    "-------\n",
    "\n",
    "##### Python\n",
    "\n",
    "```python\n",
    "import numpy as np\n",
    "import xtensor_python_test as xt\n",
    "\n",
    "v = np.arange(15).reshape(3, 5)\n",
    "print(xt.sum_of_sines(v)) #--> 1.2853996391883833 \n",
    "```"
   ]
  },
  {
   "cell_type": "markdown",
   "metadata": {
    "slideshow": {
     "slide_type": "subslide"
    }
   },
   "source": [
    "##### C++\n",
    "\n",
    "```c++\n",
    "double scalar_func(double i, double j)\n",
    "{\n",
    "    return std::sin(i) - std::cos(j);\n",
    "}\n",
    "\n",
    "PYBIND11_PLUGIN(xtensor_python_test)\n",
    "{\n",
    "    py::module m(\"xtensor_python_test\", \"Test module for xtensor python bindings\");\n",
    "    m.def(\"vectorized_func\", xt::pyvectorize(scalar_func), \"\");\n",
    "    return m.ptr();\n",
    "}\n",
    "```\n",
    "\n",
    "-------\n",
    "\n",
    "##### Python\n",
    "\n",
    "```python\n",
    "import numpy as np\n",
    "import xtensor_python_test as xt\n",
    "\n",
    "x = np.arange(15).reshape(3, 5)\n",
    "y = [1, 2, 3, 4, 5]\n",
    "print(xt.vectorized_func(x, y)) #--> [[-0.540302,  1.257618,  1.89929 ,  0.794764, -1.040465],\n",
    "                                #     [-1.499227,  0.136731,  1.646979,  1.643002,  0.128456],\n",
    "                                #     [-1.084323, -0.583843,  0.45342 ,  1.073811,  0.706945]]\n",
    "```"
   ]
  },
  {
   "cell_type": "markdown",
   "metadata": {
    "slideshow": {
     "slide_type": "slide"
    }
   },
   "source": [
    "### Secret sauce for speed 👽\n",
    "\n",
    "- Explicit SIMD vectorization of expression (SSE, AVX)\n",
    "- Specialized (independent!) package: xsimd (https://github.com/QuantStack/xsimd)\n",
    "- Also: overloads for SIMD enabled `sin`/`exp`/`errfct` ... (many more)\n",
    "- E.g. sin ~ 6 times faster than `std::sin`. Generally between 3 and 8 times faster"
   ]
  },
  {
   "cell_type": "markdown",
   "metadata": {},
   "source": [
    "### Benchmarks 🚀\n",
    "\n",
    "https://github.com/wolfv/xtensor-benchmark\n",
    "\n",
    "- xtensor-benchmarks: easy to install & use bench suite\n",
    "- utilizing google-benchmark\n",
    "- comparing: Blitz++, Armadillo, Eigen3, xtensor + xsimd"
   ]
  },
  {
   "cell_type": "markdown",
   "metadata": {},
   "source": [
    "### Benchmarks\n",
    "\n",
    "Simple operation `array c = a + b;`<br>\n",
    "Allows debugging against best-in-class librarys"
   ]
  },
  {
   "cell_type": "markdown",
   "metadata": {
    "slideshow": {
     "slide_type": "subslide"
    }
   },
   "source": [
    "<tbody style=\"font-family: Overpass;\"><tr>\n",
    "\t\t<td colspan=\"6\" rowspan=\"2\" align=\"center\" height=\"43\" style=\"font-size: 1.5em; font-family: Overpass; text-align: center;\">1D Benchmarks (ns)</td>\n",
    "\t\t</tr>\n",
    "\t<tr>\n",
    "\t\t<td align=\"left\" height=\"21\"><br></td>\n",
    "\t\t<td align=\"left\"><br></td>\n",
    "\t\t<td align=\"left\"><br></td>\n",
    "\t\t<td align=\"left\"><br></td>\n",
    "\t\t<td align=\"left\"><br></td>\n",
    "\t\t<td align=\"left\"><br></td>\n",
    "\t</tr>\n",
    "\t<tr>\n",
    "\t\t<td style=\"border-bottom: 1px solid #000000\" align=\"left\" height=\"21\"><font face=\"Overpass\"><br></font></td>\n",
    "\t\t<td style=\"border-bottom: 1px solid #000000\" align=\"center\"><b><font face=\"Overpass\">Eigen</font></b></td>\n",
    "\t\t<td style=\"border-bottom: 1px solid #000000\" align=\"center\"><b><font face=\"Overpass\">xtensor</font></b></td>\n",
    "\t\t<td style=\"border-bottom: 1px solid #000000\" align=\"center\"><b><font face=\"Overpass\">blitz++</font></b></td>\n",
    "\t\t<td style=\"border-bottom: 1px solid #000000\" align=\"center\"><b><font face=\"Overpass\">Armadillo</font></b></td>\n",
    "\t\t<td style=\"border-bottom: 1px solid #000000\" align=\"center\"><b><font face=\"Overpass\">xsimd</font></b></td>\n",
    "\t</tr>\n",
    "\t<tr>\n",
    "\t\t<td style=\"border-top: 1px solid #000000; border-bottom: 1px solid #000000\" sdval=\"3\" sdnum=\"1033;\" align=\"right\" height=\"21\"><b><font face=\"Overpass\">3</font></b></td>\n",
    "\t\t<td style=\"border-top: 1px solid #000000; border-bottom: 1px solid #000000\" sdval=\"19.9219\" sdnum=\"1033;0;0.00\" align=\"right\"><font face=\"Overpass\">19.92</font></td>\n",
    "\t\t<td style=\"border-top: 1px solid #000000; border-bottom: 1px solid #000000\" sdval=\"21.4081\" sdnum=\"1033;0;0.00\" align=\"right\"><font face=\"Overpass\">21.41</font></td>\n",
    "\t\t<td style=\"border-top: 1px solid #000000; border-bottom: 1px solid #000000\" sdval=\"116.668\" sdnum=\"1033;0;0.00\" align=\"right\"><font face=\"Overpass\">116.67</font></td>\n",
    "\t\t<td style=\"border-top: 1px solid #000000; border-bottom: 1px solid #000000\" sdval=\"7.26113\" sdnum=\"1033;0;0.00\" bgcolor=\"#E0EFD4\" align=\"right\"><font face=\"Overpass\">7.26</font></td>\n",
    "\t\t<td style=\"border-top: 1px solid #000000; border-bottom: 1px solid #000000\" sdval=\"16.9441\" sdnum=\"1033;0;0.00\" align=\"right\"><font face=\"Overpass\">16.94</font></td>\n",
    "\t</tr>\n",
    "\t<tr>\n",
    "\t\t<td style=\"border-top: 1px solid #000000; border-bottom: 1px solid #000000\" sdval=\"8\" sdnum=\"1033;\" align=\"right\" height=\"21\"><b><font face=\"Overpass\">8</font></b></td>\n",
    "\t\t<td style=\"border-top: 1px solid #000000; border-bottom: 1px solid #000000\" sdval=\"14.7837\" sdnum=\"1033;0;0.00\" align=\"right\"><font face=\"Overpass\">14.78</font></td>\n",
    "\t\t<td style=\"border-top: 1px solid #000000; border-bottom: 1px solid #000000\" sdval=\"18.9315\" sdnum=\"1033;0;0.00\" align=\"right\"><font face=\"Overpass\">18.93</font></td>\n",
    "\t\t<td style=\"border-top: 1px solid #000000; border-bottom: 1px solid #000000\" sdval=\"119.2\" sdnum=\"1033;0;0.00\" align=\"right\"><font face=\"Overpass\">119.20</font></td>\n",
    "\t\t<td style=\"border-top: 1px solid #000000; border-bottom: 1px solid #000000\" sdval=\"9.25907\" sdnum=\"1033;0;0.00\" bgcolor=\"#E0EFD4\" align=\"right\"><font face=\"Overpass\">9.26</font></td>\n",
    "\t\t<td style=\"border-top: 1px solid #000000; border-bottom: 1px solid #000000\" sdval=\"14.6707\" sdnum=\"1033;0;0.00\" align=\"right\"><font face=\"Overpass\">14.67</font></td>\n",
    "\t</tr>\n",
    "\t<tr>\n",
    "\t\t<td style=\"border-top: 1px solid #000000; border-bottom: 1px solid #000000\" sdval=\"64\" sdnum=\"1033;\" align=\"right\" height=\"21\"><b><font face=\"Overpass\">64</font></b></td>\n",
    "\t\t<td style=\"border-top: 1px solid #000000; border-bottom: 1px solid #000000\" sdval=\"23.4705\" sdnum=\"1033;0;0.00\" bgcolor=\"#E0EFD4\" align=\"right\"><font face=\"Overpass\">23.47</font></td>\n",
    "\t\t<td style=\"border-top: 1px solid #000000; border-bottom: 1px solid #000000\" sdval=\"33.7607\" sdnum=\"1033;0;0.00\" align=\"right\"><font face=\"Overpass\">33.76</font></td>\n",
    "\t\t<td style=\"border-top: 1px solid #000000; border-bottom: 1px solid #000000\" sdval=\"133.216\" sdnum=\"1033;0;0.00\" align=\"right\"><font face=\"Overpass\">133.22</font></td>\n",
    "\t\t<td style=\"border-top: 1px solid #000000; border-bottom: 1px solid #000000\" sdval=\"40.9595\" sdnum=\"1033;0;0.00\" align=\"right\"><font face=\"Overpass\">40.96</font></td>\n",
    "\t\t<td style=\"border-top: 1px solid #000000; border-bottom: 1px solid #000000\" sdval=\"23.098\" sdnum=\"1033;0;0.00\" align=\"right\"><font face=\"Overpass\">23.10</font></td>\n",
    "\t</tr>\n",
    "\t<tr>\n",
    "\t\t<td style=\"border-top: 1px solid #000000; border-bottom: 1px solid #000000\" sdval=\"512\" sdnum=\"1033;\" align=\"right\" height=\"21\"><b><font face=\"Overpass\">512</font></b></td>\n",
    "\t\t<td style=\"border-top: 1px solid #000000; border-bottom: 1px solid #000000\" sdval=\"163.486\" sdnum=\"1033;0;0.00\" bgcolor=\"#E0EFD4\" align=\"right\"><font face=\"Overpass\">163.49</font></td>\n",
    "\t\t<td style=\"border-top: 1px solid #000000; border-bottom: 1px solid #000000\" sdval=\"239.119\" sdnum=\"1033;0;0.00\" align=\"right\"><font face=\"Overpass\">239.12</font></td>\n",
    "\t\t<td style=\"border-top: 1px solid #000000; border-bottom: 1px solid #000000\" sdval=\"322.97\" sdnum=\"1033;0;0.00\" align=\"right\"><font face=\"Overpass\">322.97</font></td>\n",
    "\t\t<td style=\"border-top: 1px solid #000000; border-bottom: 1px solid #000000\" sdval=\"231.585\" sdnum=\"1033;0;0.00\" align=\"right\"><font face=\"Overpass\">231.59</font></td>\n",
    "\t\t<td style=\"border-top: 1px solid #000000; border-bottom: 1px solid #000000\" sdval=\"160.999\" sdnum=\"1033;0;0.00\" align=\"right\"><font face=\"Overpass\">161.00</font></td>\n",
    "\t</tr>\n",
    "\t<tr>\n",
    "\t\t<td style=\"border-top: 1px solid #000000; border-bottom: 1px solid #000000\" sdval=\"1000\" sdnum=\"1033;\" align=\"right\" height=\"21\"><b><font face=\"Overpass\">1000</font></b></td>\n",
    "\t\t<td style=\"border-top: 1px solid #000000; border-bottom: 1px solid #000000\" sdval=\"237.917\" sdnum=\"1033;0;0.00\" bgcolor=\"#E0EFD4\" align=\"right\"><font face=\"Overpass\">237.92</font></td>\n",
    "\t\t<td style=\"border-top: 1px solid #000000; border-bottom: 1px solid #000000\" sdval=\"338.206\" sdnum=\"1033;0;0.00\" align=\"right\"><font face=\"Overpass\">338.21</font></td>\n",
    "\t\t<td style=\"border-top: 1px solid #000000; border-bottom: 1px solid #000000\" sdval=\"484.751\" sdnum=\"1033;0;0.00\" align=\"right\"><font face=\"Overpass\">484.75</font></td>\n",
    "\t\t<td style=\"border-top: 1px solid #000000; border-bottom: 1px solid #000000\" sdval=\"391.06\" sdnum=\"1033;0;0.00\" align=\"right\"><font face=\"Overpass\">391.06</font></td>\n",
    "\t\t<td style=\"border-top: 1px solid #000000; border-bottom: 1px solid #000000\" sdval=\"227.622\" sdnum=\"1033;0;0.00\" align=\"right\"><font face=\"Overpass\">227.62</font></td>\n",
    "\t</tr>\n",
    "</tbody>"
   ]
  },
  {
   "cell_type": "markdown",
   "metadata": {
    "slideshow": {
     "slide_type": "subslide"
    }
   },
   "source": [
    "<tbody>\t\n",
    "    <tr>\n",
    "\t\t<td colspan=\"6\" rowspan=\"2\" align=\"center\" height=\"43\" style=\"font-size: 1.5em; font-family: Overpass; text-align: center;\">2D Benchmarks (ns)</td>\n",
    "\t\t</tr>\n",
    "\t<tr>\n",
    "\t\t<td align=\"left\" height=\"21\"><br></td>\n",
    "\t\t<td align=\"left\"><br></td>\n",
    "\t\t<td align=\"left\"><br></td>\n",
    "\t\t<td align=\"left\"><br></td>\n",
    "\t\t<td align=\"left\"><br></td>\n",
    "\t\t<td align=\"left\"><br></td>\n",
    "\t</tr>\n",
    "\t<tr>\n",
    "\t\t<td style=\"border-bottom: 1px solid #000000\" align=\"left\" height=\"21\"><font face=\"Overpass\"><br></font></td>\n",
    "\t\t<td style=\"border-bottom: 1px solid #000000\" align=\"center\"><b><font face=\"Overpass\">Eigen</font></b></td>\n",
    "\t\t<td style=\"border-bottom: 1px solid #000000\" align=\"center\"><b><font face=\"Overpass\">xtensor</font></b></td>\n",
    "\t\t<td style=\"border-bottom: 1px solid #000000\" align=\"center\"><b><font face=\"Overpass\">blitz++</font></b></td>\n",
    "\t\t<td style=\"border-bottom: 1px solid #000000\" align=\"center\"><b><font face=\"Overpass\">Armadillo</font></b></td>\n",
    "\t\t<td style=\"border-bottom: 1px solid #000000\" align=\"center\"><b><font face=\"Overpass\">xsimd</font></b></td>\n",
    "\t</tr>\n",
    "\t<tr>\n",
    "\t\t<td style=\"border-top: 1px solid #000000; border-bottom: 1px solid #000000\" sdval=\"3\" sdnum=\"1033;\" align=\"right\" height=\"21\"><b><font face=\"Overpass\">3</font></b></td>\n",
    "\t\t<td style=\"border-bottom: 1px solid #000000\" sdval=\"29.0644\" sdnum=\"1033;0;# ##0.00\" align=\"right\"><font face=\"Overpass\"> 29.06</font></td>\n",
    "\t\t<td style=\"border-bottom: 1px solid #000000\" sdval=\"24.3564\" sdnum=\"1033;0;# ##0.00\" align=\"right\"><font face=\"Overpass\"> 24.36</font></td>\n",
    "\t\t<td style=\"border-bottom: 1px solid #000000\" sdval=\"191.131\" sdnum=\"1033;0;# ##0.00\" align=\"right\"><font face=\"Overpass\"> 191.13</font></td>\n",
    "\t\t<td style=\"border-bottom: 1px solid #000000\" sdval=\"13.5615\" sdnum=\"1033;0;# ##0.00\" bgcolor=\"#E0EFD4\" align=\"right\"><font face=\"Overpass\"> 13.56</font></td>\n",
    "\t\t<td style=\"border-bottom: 1px solid #000000\" sdval=\"18.9505\" sdnum=\"1033;0;# ##0.00\" align=\"right\"><font face=\"Overpass\"> 18.95</font></td>\n",
    "\t</tr>\n",
    "\t<tr>\n",
    "\t\t<td style=\"border-top: 1px solid #000000; border-bottom: 1px solid #000000\" sdval=\"8\" sdnum=\"1033;\" align=\"right\" height=\"21\"><b><font face=\"Overpass\">8</font></b></td>\n",
    "\t\t<td style=\"border-top: 1px solid #000000; border-bottom: 1px solid #000000\" sdval=\"34.2939\" sdnum=\"1033;0;# ##0.00\" bgcolor=\"#E0EFD4\" align=\"right\"><font face=\"Overpass\"> 34.29</font></td>\n",
    "\t\t<td style=\"border-top: 1px solid #000000; border-bottom: 1px solid #000000\" sdval=\"34.4573\" sdnum=\"1033;0;# ##0.00\" bgcolor=\"#E0EFD4\" align=\"right\"><font face=\"Overpass\"> 34.46</font></td>\n",
    "\t\t<td style=\"border-top: 1px solid #000000; border-bottom: 1px solid #000000\" sdval=\"166.262\" sdnum=\"1033;0;# ##0.00\" align=\"right\"><font face=\"Overpass\"> 166.26</font></td>\n",
    "\t\t<td style=\"border-top: 1px solid #000000; border-bottom: 1px solid #000000\" sdval=\"57.544\" sdnum=\"1033;0;# ##0.00\" align=\"right\"><font face=\"Overpass\"> 57.54</font></td>\n",
    "\t\t<td style=\"border-top: 1px solid #000000; border-bottom: 1px solid #000000\" sdval=\"23.2297\" sdnum=\"1033;0;# ##0.00\" align=\"right\"><font face=\"Overpass\"> 23.23</font></td>\n",
    "\t</tr>\n",
    "\t<tr>\n",
    "\t\t<td style=\"border-top: 1px solid #000000; border-bottom: 1px solid #000000\" sdval=\"64\" sdnum=\"1033;\" align=\"right\" height=\"21\"><b><font face=\"Overpass\">64</font></b></td>\n",
    "\t\t<td style=\"border-top: 1px solid #000000; border-bottom: 1px solid #000000\" sdval=\"1363.97\" sdnum=\"1033;0;# ##0.00\" bgcolor=\"#E0EFD4\" align=\"right\"><font face=\"Overpass\">1 363.97</font></td>\n",
    "\t\t<td style=\"border-top: 1px solid #000000; border-bottom: 1px solid #000000\" sdval=\"1775.82\" sdnum=\"1033;0;# ##0.00\" align=\"right\"><font face=\"Overpass\">1 775.82</font></td>\n",
    "\t\t<td style=\"border-top: 1px solid #000000; border-bottom: 1px solid #000000\" sdval=\"3018.06\" sdnum=\"1033;0;# ##0.00\" align=\"right\"><font face=\"Overpass\">3 018.06</font></td>\n",
    "\t\t<td style=\"border-top: 1px solid #000000; border-bottom: 1px solid #000000\" sdval=\"2321.3\" sdnum=\"1033;0;# ##0.00\" align=\"right\"><font face=\"Overpass\">2 321.30</font></td>\n",
    "\t\t<td style=\"border-top: 1px solid #000000; border-bottom: 1px solid #000000\" sdval=\"1340.55\" sdnum=\"1033;0;# ##0.00\" align=\"right\"><font face=\"Overpass\">1 340.55</font></td>\n",
    "\t</tr>\n",
    "\t<tr>\n",
    "\t\t<td style=\"border-top: 1px solid #000000; border-bottom: 1px solid #000000\" sdval=\"512\" sdnum=\"1033;\" align=\"right\" height=\"21\"><b><font face=\"Overpass\">512</font></b></td>\n",
    "\t\t<td style=\"border-top: 1px solid #000000; border-bottom: 1px solid #000000\" sdval=\"288917\" sdnum=\"1033;0;# ##0.00\" align=\"right\"><font face=\"Overpass\">288 917.00</font></td>\n",
    "\t\t<td style=\"border-top: 1px solid #000000; border-bottom: 1px solid #000000\" sdval=\"246587\" sdnum=\"1033;0;# ##0.00\" bgcolor=\"#E0EFD4\" align=\"right\"><font face=\"Overpass\">246 587.00</font></td>\n",
    "\t\t<td style=\"border-top: 1px solid #000000; border-bottom: 1px solid #000000\" sdval=\"1025800\" sdnum=\"1033;0;# ##0.00\" align=\"right\"><font face=\"Overpass\">1025 800.00</font></td>\n",
    "\t\t<td style=\"border-top: 1px solid #000000; border-bottom: 1px solid #000000\" sdval=\"264378\" sdnum=\"1033;0;# ##0.00\" align=\"right\"><font face=\"Overpass\">264 378.00</font></td>\n",
    "\t\t<td style=\"border-top: 1px solid #000000; border-bottom: 1px solid #000000\" sdval=\"78483.7\" sdnum=\"1033;0;# ##0.00\" align=\"right\"><font face=\"Overpass\">78 483.70</font></td>\n",
    "\t</tr>\n",
    "\t<tr>\n",
    "\t\t<td style=\"border-top: 1px solid #000000; border-bottom: 1px solid #000000\" sdval=\"1000\" sdnum=\"1033;\" align=\"right\" height=\"21\"><b><font face=\"Overpass\">1000</font></b></td>\n",
    "\t\t<td style=\"border-top: 1px solid #000000; border-bottom: 1px solid #000000\" sdval=\"1683060\" sdnum=\"1033;0;# ##0.00\" align=\"right\"><font face=\"Overpass\">1683 060.00</font></td>\n",
    "\t\t<td style=\"border-top: 1px solid #000000; border-bottom: 1px solid #000000\" sdval=\"2949090\" sdnum=\"1033;0;# ##0.00\" align=\"right\"><font face=\"Overpass\">2949 090.00</font></td>\n",
    "\t\t<td style=\"border-top: 1px solid #000000; border-bottom: 1px solid #000000\" sdval=\"1487640\" sdnum=\"1033;0;# ##0.00\" align=\"right\"><font face=\"Overpass\">1487 640.00</font></td>\n",
    "\t\t<td style=\"border-top: 1px solid #000000; border-bottom: 1px solid #000000\" sdval=\"1329600\" sdnum=\"1033;0;# ##0.00\" bgcolor=\"#E0EFD4\" align=\"right\"><font face=\"Overpass\">1329 600.00</font></td>\n",
    "\t\t<td style=\"border-top: 1px solid #000000; border-bottom: 1px solid #000000\" sdval=\"525787\" sdnum=\"1033;0;# ##0.00\" align=\"right\"><font face=\"Overpass\">525 787.00</font></td>\n",
    "\t</tr>\n",
    "</tbody>"
   ]
  },
  {
   "cell_type": "markdown",
   "metadata": {
    "slideshow": {
     "slide_type": "subslide"
    }
   },
   "source": [
    "### Results\n",
    "\n",
    "- Eigen3 definitly the fastest traditional library\n",
    "- Armadillo really fast for small matrices/vectors\n",
    "- xtensor with compile-time known dimensions comparably fast as Eigen::MatrixXd\n",
    "- Let's see what we can learn ... "
   ]
  },
  {
   "cell_type": "markdown",
   "metadata": {
    "slideshow": {
     "slide_type": "subslide"
    }
   },
   "source": [
    "### Armadillo tricks\n",
    "\n",
    "- pre-allocate small amount of storage on the stack\n",
    "- eliminates cost of allocating fixed N of elements at runtime\n",
    "- huge benefit for small arrays\n",
    "\n",
    "➡ same idea in xtensor small_vector, soon to be merged <br>"
   ]
  },
  {
   "cell_type": "markdown",
   "metadata": {
    "slideshow": {
     "slide_type": "subslide"
    }
   },
   "source": [
    "### Eigen tricks\n",
    "\n",
    "- most people use fixed size Eigen containers (e.g. Matrix3f)\n",
    "- soon in xtensor: `xfixed<double, <3, 1, 5>>`\n",
    "- calculate storage size/strides at compile time, allocate on stack"
   ]
  },
  {
   "cell_type": "markdown",
   "metadata": {
    "slideshow": {
     "slide_type": "slide"
    }
   },
   "source": [
    "### xtensor for robotics\n",
    "\n",
    "- many problems in robotics require 1, 2, or N-D arrays\n",
    "- Armadillo and Eigen dominant libraries in the robotics space\n",
    "- Limited amount of dimensions, no broadcasting, \"legacy\" code\n",
    "\n",
    "(still, Eigen is really fast!)"
   ]
  },
  {
   "cell_type": "markdown",
   "metadata": {
    "slideshow": {
     "slide_type": "subslide"
    }
   },
   "source": [
    "![](assets/xtensor-ros.svg)\n",
    "\n",
    "### ROS support\n",
    "\n",
    "- native support to send and receive xtensor messages\n",
    "- as few copies as possible\n",
    "- (soon) native communication with NumPy over msgs\n",
    "- (soon) update for ROS 2"
   ]
  },
  {
   "cell_type": "markdown",
   "metadata": {
    "slideshow": {
     "slide_type": "subslide"
    }
   },
   "source": [
    "### Code example\n",
    "\n",
    "```c++\n",
    "ros::Publisher chatter_pub = n.advertise<xt::xarray<double>>(\"chatter\", 1000);\n",
    "\n",
    "// .... \n",
    "\n",
    "ros::Subscriber sub = n.subscribe(\"chatter\", 1000, chatterCallback);\n",
    "\n",
    "void chatterCallback(const xt::xarray<double>& msg_arr)\n",
    "{\n",
    "    ROS_INFO(\"I heard: something\");\n",
    "    std::cout << msg_arr << std::endl;\n",
    "}\n",
    "```"
   ]
  },
  {
   "cell_type": "markdown",
   "metadata": {
    "slideshow": {
     "slide_type": "slide"
    }
   },
   "source": [
    "# Thanks\n",
    "\n",
    "### Questions or comments?\n",
    "\n",
    "Bonus: check out these interactive notebooks online (Binder is awesome)\n",
    "\n",
    "- https://mybinder.org/v2/gh/egpbos/xtensor-fftw/master?filepath=notebooks%2Fintensely_edgy_cat.ipynb\n",
    "- https://mybinder.org/v2/gh/QuantStack/xtensor-io/master?filepath=notebooks/demo.ipynb\n",
    "- https://beta.mybinder.org/v2/gh/QuantStack/xtensor/0.14.1-binder?filepath=notebooks/xtensor.ipynb\n",
    "\n",
    "### Join us on gitter! https://gitter.im/quantstack"
   ]
  }
 ],
 "metadata": {
  "celltoolbar": "Slideshow",
  "kernelspec": {
   "display_name": "xeus C++14",
   "language": "",
   "name": "xeus-cling-cpp14"
  },
  "language_info": {
   "codemirror_mode": "text/x-c++src",
   "file_extension": ".cpp",
   "mimetype": "text/x-c++src",
   "name": "c++",
   "version": ""
  }
 },
 "nbformat": 4,
 "nbformat_minor": 2
}
